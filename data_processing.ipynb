{
 "cells": [
  {
   "cell_type": "code",
   "execution_count": 1,
   "metadata": {},
   "outputs": [],
   "source": [
    "# import required libraries\n",
    "import os \n",
    "import numpy as np\n",
    "import pandas as pd\n",
    "import geopandas as gpd"
   ]
  },
  {
   "cell_type": "code",
   "execution_count": 44,
   "metadata": {},
   "outputs": [],
   "source": [
    "# set inputs and directories\n",
    "WRK_DIR = 'C:/Users/geo1k/OneDrive/Geonos'\n",
    "IN_DIR = os.path.join(WRK_DIR, 'data/turtles')\n",
    "OUT_DIR = os.path.join(WRK_DIR, 'data/turtles/geodata')"
   ]
  },
  {
   "cell_type": "code",
   "execution_count": 3,
   "metadata": {},
   "outputs": [],
   "source": [
    "# read data\n",
    "nesting_df = pd.read_table(os.path.join(IN_DIR, 'nesting.csv'))\n",
    "detections_df = pd.read_table(os.path.join(IN_DIR, 'detections.csv'))"
   ]
  },
  {
   "cell_type": "code",
   "execution_count": 4,
   "metadata": {
    "scrolled": true
   },
   "outputs": [
    {
     "data": {
      "text/plain": [
       "gbifID                                                         1584377453\n",
       "datasetKey                           71e33e4e-3579-48be-bc68-996e67571072\n",
       "occurrenceID                        Marine Turtle Nesting Locations.17836\n",
       "kingdom                                                          Animalia\n",
       "phylum                                                           Chordata\n",
       "class                                                            Reptilia\n",
       "order                                                          Testudines\n",
       "family                                                        Cheloniidae\n",
       "genus                                                             Natator\n",
       "species                                                 Natator depressus\n",
       "infraspecificEpithet                                                  NaN\n",
       "taxonRank                                                         SPECIES\n",
       "scientificName                           Natator depressus (Garman, 1880)\n",
       "verbatimScientificName                                  Natator depressus\n",
       "verbatimScientificNameAuthorship                                      NaN\n",
       "countryCode                                                            AU\n",
       "locality                                           TS:WOODY WALLIS ISLAND\n",
       "stateProvince                                                         NaN\n",
       "occurrenceStatus                                                  present\n",
       "individualCount                                                       NaN\n",
       "publishingOrgKey                     5fa89f68-9af0-4a0d-8998-ea39695c1db9\n",
       "decimalLatitude                                                  -10.8832\n",
       "decimalLongitude                                                  142.033\n",
       "coordinateUncertaintyInMeters                                         NaN\n",
       "coordinatePrecision                                                   NaN\n",
       "elevation                                                             NaN\n",
       "elevationAccuracy                                                     NaN\n",
       "depth                                                                   0\n",
       "depthAccuracy                                                           0\n",
       "eventDate                                            1999-01-01T00:00:00Z\n",
       "day                                                                   NaN\n",
       "month                                                                 NaN\n",
       "year                                                                 1999\n",
       "taxonKey                                                          2442173\n",
       "speciesKey                                                        2442173\n",
       "basisOfRecord                                           HUMAN_OBSERVATION\n",
       "institutionCode                                                      ACEF\n",
       "collectionCode                                   acef_marine_turtle_nests\n",
       "catalogNumber                                                       17836\n",
       "recordNumber                                                          NaN\n",
       "identifiedBy                                                          NaN\n",
       "dateIdentified                                                        NaN\n",
       "license                                                         CC_BY_4_0\n",
       "rightsHolder                                                          NaN\n",
       "recordedBy                                                            NaN\n",
       "typeStatus                                                            NaN\n",
       "establishmentMeans                                                    NaN\n",
       "lastInterpreted                                  2019-09-20T23:00:39.820Z\n",
       "mediaType                                                             NaN\n",
       "issue                                        COORDINATE_PRECISION_INVALID\n",
       "Name: 753, dtype: object"
      ]
     },
     "execution_count": 4,
     "metadata": {},
     "output_type": "execute_result"
    }
   ],
   "source": [
    "nesting_df.iloc[753]"
   ]
  },
  {
   "cell_type": "code",
   "execution_count": 54,
   "metadata": {},
   "outputs": [],
   "source": [
    "# keep relevant columns\n",
    "nesting_sites_df = nesting_df[['gbifID', 'species', 'decimalLatitude', 'decimalLongitude', 'eventDate']]\n",
    "nesting_sites_df.columns = ['ID', 'scientific name', 'latitude', 'longitude', 'date']\n",
    "\n",
    "# convert to geodataframe\n",
    "nesting_gdf = gpd.GeoDataFrame(\n",
    "    nesting_sites_df,\n",
    "    geometry=gpd.points_from_xy(nesting_sites_df['longitude'], nesting_sites_df['latitude'])\n",
    ")\n",
    "\n",
    "# save as geojson\n",
    "out_fp = os.path.join(OUT_DIR, 'nesting.geojson')\n",
    "nesting_gdf.to_file(out_fp, driver='GeoJSON')"
   ]
  },
  {
   "cell_type": "code",
   "execution_count": null,
   "metadata": {},
   "outputs": [],
   "source": []
  }
 ],
 "metadata": {
  "kernelspec": {
   "display_name": "Python [conda env:diomedes] *",
   "language": "python",
   "name": "conda-env-diomedes-py"
  },
  "language_info": {
   "codemirror_mode": {
    "name": "ipython",
    "version": 3
   },
   "file_extension": ".py",
   "mimetype": "text/x-python",
   "name": "python",
   "nbconvert_exporter": "python",
   "pygments_lexer": "ipython3",
   "version": "3.7.7"
  }
 },
 "nbformat": 4,
 "nbformat_minor": 2
}
